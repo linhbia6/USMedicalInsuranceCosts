{
 "cells": [
  {
   "cell_type": "markdown",
   "metadata": {},
   "source": [
    "# U.S. Medical Insurance Costs"
   ]
  },
  {
   "cell_type": "markdown",
   "metadata": {},
   "source": [
    "## Project Goals\n",
    "<br>\n",
    "- Looking at the dataset to find out:<br>\n",
    "&emsp;&emsp;+ Age: Mean, Medium, Mode <br>\n",
    "&emsp;&emsp;+ Sex: ratio of female & make <br>\n",
    "&emsp;&emsp;+ Smoker: % of smoker<br>\n",
    "&emsp;&emsp;+ BMI: Mean, Medium, Mode<br>\n",
    "&emsp;&emsp;+ Children: Mean, Medium, Mode, % of ppl who have children <br>\n",
    "&emsp;&emsp;+ Region: Most occured region<br> \n",
    "&emsp;&emsp;+ Charge: Mean, Medium, Mode<br>\n",
    "<br>\n",
    "<br>\n",
    "- Further analysis: <br>\n",
    "&emsp;&emsp;+ Average age for people with at least 1 child<br>\n",
    "&emsp;&emsp;+ Average Insurance Cost for Smoker vs. Non-Smoker <br>\n",
    "&emsp;&emsp;+ Average Insurance Cost for each No. of children Group <br>\n",
    "       "
   ]
  },
  {
   "cell_type": "markdown",
   "metadata": {},
   "source": [
    "## 1- Loading CSV file and create dataset \n",
    "\n",
    "- Create list data for each set of data from the CSV file\n",
    "- Double check the list after running function\n",
    "\n",
    "### 1.1- Import CSV file and create data list:"
   ]
  },
  {
   "cell_type": "code",
   "execution_count": 44,
   "metadata": {},
   "outputs": [],
   "source": [
    "import csv"
   ]
  },
  {
   "cell_type": "code",
   "execution_count": 45,
   "metadata": {},
   "outputs": [],
   "source": [
    "#Create all data lists from the insurance data\n",
    "age = []\n",
    "sex = []\n",
    "bmi = []\n",
    "children = []\n",
    "smoker = []\n",
    "region = []\n",
    "charges = []"
   ]
  },
  {
   "cell_type": "code",
   "execution_count": 46,
   "metadata": {},
   "outputs": [],
   "source": [
    "# # Method 1: Create function to load data, \n",
    "# # at the same time converting the string value in csv file to either float or integer value. \n",
    "\n",
    "# def load_csv_to_data_list(csv_file,data_list,data_name):\n",
    "#     with open(csv_file) as csv_data:\n",
    "#         csv_read=csv.DictReader(csv_data)\n",
    "#         for row in csv_read:\n",
    "#             try:\n",
    "#                 float(row[data_name])\n",
    "#                 if row[data_name].isdigit() and int(row[data_name])==0:\n",
    "#                     data_list.append(int(row[data_name]))\n",
    "#                 if row[data_name].isdigit() and float(row[data_name]):\n",
    "#                     data_list.append(int(row[data_name]))\n",
    "#                 if row[data_name].isdigit() == False and type(float(row[data_name]))==float:\n",
    "#                     data_list.append(float(row[data_name]))\n",
    "#             except ValueError:\n",
    "#                 data_list.append(row[data_name])\n",
    "                "
   ]
  },
  {
   "cell_type": "code",
   "execution_count": 47,
   "metadata": {},
   "outputs": [],
   "source": [
    "### Method 2: Much simpler ^^ \n",
    "\n",
    "def load_csv_to_data_list(csv_file, data_list, data_name):\n",
    "    with open(csv_file) as csv_data:\n",
    "        csv_reader = csv.DictReader(csv_data)\n",
    "        for row in csv_reader:\n",
    "            try:\n",
    "                value = float(row[data_name])\n",
    "                if value.is_integer():\n",
    "                    data_list.append(int(value))\n",
    "                else:\n",
    "                    data_list.append(value)\n",
    "            except ValueError:\n",
    "                data_list.append(row[data_name])"
   ]
  },
  {
   "cell_type": "code",
   "execution_count": 48,
   "metadata": {},
   "outputs": [],
   "source": [
    "# Start loading data\n",
    "\n",
    "load_csv_to_data_list('insurance.csv',age,'age')\n",
    "load_csv_to_data_list('insurance.csv',sex,'sex')\n",
    "load_csv_to_data_list('insurance.csv',bmi,'bmi')\n",
    "load_csv_to_data_list('insurance.csv',smoker,'smoker')\n",
    "load_csv_to_data_list('insurance.csv',children,'children')\n",
    "load_csv_to_data_list('insurance.csv',region,'region')\n",
    "load_csv_to_data_list('insurance.csv',charges,'charges')\n"
   ]
  },
  {
   "cell_type": "markdown",
   "metadata": {},
   "source": [
    "### 1.2- Creat a library from the list in case the data in list is modified:"
   ]
  },
  {
   "cell_type": "code",
   "execution_count": 49,
   "metadata": {},
   "outputs": [],
   "source": [
    "def create_library(age,sex,bmi,smoker,children,region,charges):\n",
    "    Insurance_library = dict()\n",
    "\n",
    "    Insurance_library['age']=age\n",
    "    Insurance_library['sex']=sex\n",
    "    Insurance_library['bmi']=bmi\n",
    "    Insurance_library['smoker']=smoker\n",
    "    Insurance_library['children']=children\n",
    "    Insurance_library['region']=region\n",
    "    Insurance_library['charges']=charges\n",
    "    \n",
    "    return Insurance_library\n",
    "\n",
    "Insurance_library = create_library(age,sex,bmi,smoker,children,region,charges)"
   ]
  },
  {
   "cell_type": "markdown",
   "metadata": {},
   "source": [
    "### 1.3 - Preview some data"
   ]
  },
  {
   "cell_type": "code",
   "execution_count": 50,
   "metadata": {},
   "outputs": [
    {
     "name": "stdout",
     "output_type": "stream",
     "text": [
      "[19, 18, 28, 33, 32]\n",
      "['female', 'male', 'male', 'male', 'male']\n",
      "[27.9, 33.77, 33, 22.705, 28.88]\n",
      "['yes', 'no', 'no', 'no', 'no']\n",
      "[0, 1, 3, 0, 0]\n",
      "['southwest', 'southeast', 'southeast', 'northwest', 'northwest']\n",
      "[16884.924, 1725.5523, 4449.462, 21984.47061, 3866.8552]\n"
     ]
    }
   ],
   "source": [
    "print(age[0:5])\n",
    "print(sex[0:5])\n",
    "print(bmi[0:5])\n",
    "print(smoker[0:5])\n",
    "print(children[0:5])\n",
    "print(region[0:5])\n",
    "print(charges[0:5])"
   ]
  },
  {
   "cell_type": "markdown",
   "metadata": {},
   "source": [
    "## 2- Analyze data "
   ]
  },
  {
   "cell_type": "markdown",
   "metadata": {},
   "source": [
    "### 2.1- Function: \n",
    "Write function to find Mean, Median, Mode of a data list"
   ]
  },
  {
   "cell_type": "code",
   "execution_count": 51,
   "metadata": {},
   "outputs": [],
   "source": [
    "def find_mean(data_list):\n",
    "    mean=round(sum(data_list)/len(data_list),2)\n",
    "    return mean\n",
    "\n",
    "def find_median(data_list):\n",
    "    sorted_data=sorted(data_list)\n",
    "    if len(sorted_data)%2==0:\n",
    "        median1=sorted_data[len(sorted_data)//2]\n",
    "        median2=sorted_data[len(sorted_data)//2-1]\n",
    "        median = (median1+median2)/2\n",
    "    else:\n",
    "        median=sorted_data[len(sorted_data)//2]\n",
    "    return median\n",
    "\n",
    "def find_mode(data_list):\n",
    "    from statistics import multimode\n",
    "    if len(multimode(data_list))==len(data_list):\n",
    "        print(\"This data list does not have a mode\")\n",
    "    else:\n",
    "        data_mode=multimode(data_list)\n",
    "    return data_mode\n",
    "\n",
    "def find_mode_percentage(data_list):\n",
    "    sum_mode=0\n",
    "    for a in find_mode(data_list):\n",
    "        sum_mode+=data_list.count(a)\n",
    "    mode_percent=round(sum_mode/len(data_list)*100,2)\n",
    "    return mode_percent\n",
    "        \n",
    "\n",
    "def find_mean_median_mode(data_list, list_name):\n",
    "    if type(data_list[1])==str:\n",
    "        print(list_name +\" has Mode: \"+str(find_mode(data_list))+ \" which account to \"+ str(find_mode_percentage(data_list))+\"% .\")\n",
    "    else:\n",
    "        print(list_name + \" has Mean: \"+str(find_mean(data_list))+\" , Median: \"+ str(find_median(data_list))+\" , and Mode: \"+str(find_mode(data_list)) + \" which account to \"+ str(find_mode_percentage(data_list))+\"% .\")"
   ]
  },
  {
   "cell_type": "markdown",
   "metadata": {},
   "source": [
    "## 2.2- Analyze data set\n",
    "Using the function created in 2.1 to analyze the dataset\n",
    "### 2.2.1- Looking at all data list and find mean, median, mode of each list"
   ]
  },
  {
   "cell_type": "code",
   "execution_count": 52,
   "metadata": {},
   "outputs": [
    {
     "name": "stdout",
     "output_type": "stream",
     "text": [
      "Data set of 1338 people shows:\n",
      "age has Mean: 39.21 , Median: 39.0 , and Mode: [18] which account to 5.16% .\n",
      "sex has Mode: ['male'] which account to 50.52% .\n",
      "bmi has Mean: 30.66 , Median: 30.4 , and Mode: [32.3] which account to 0.97% .\n",
      "smoker has Mode: ['no'] which account to 79.52% .\n",
      "children has Mean: 1.09 , Median: 1.0 , and Mode: [0] which account to 42.9% .\n",
      "region has Mode: ['southeast'] which account to 27.2% .\n",
      "charges has Mean: 13270.42 , Median: 9382.033 , and Mode: [1639.5631] which account to 0.15% .\n"
     ]
    }
   ],
   "source": [
    "print(\"Data set of \"+str(len(age))+\" people shows:\")\n",
    "\n",
    "find_mean_median_mode(age, 'age')\n",
    "find_mean_median_mode(sex, 'sex')\n",
    "find_mean_median_mode(bmi, 'bmi')\n",
    "find_mean_median_mode(smoker, 'smoker')\n",
    "find_mean_median_mode(children, 'children')\n",
    "find_mean_median_mode(region, 'region')\n",
    "find_mean_median_mode(charges, 'charges')\n"
   ]
  },
  {
   "cell_type": "markdown",
   "metadata": {},
   "source": [
    "<font color='orange'>==>> Some data note: <br>\n",
    "<br>\n",
    "The US-medical-Insurance-cost Data set consists data of 1338 people with each individual information regarding age, sex, bmi, whether they are smoking, number of children, region, and their insurance charges. \n",
    "<br>\n",
    "    <br>\n",
    "The Mode calculation shows that there is a relatively even number between female and male participants. Meanwhile, almost 80% of the insuranced people is non-smoker, and nearly 43% does not have any children. There is approximately 27% (which is about 360 people) who are from Southeast region. \n",
    "<br> \n",
    "    <br>\n",
    "For Age, BMI and Children data , they all have the Mean and Median very close to each other (which is 39.21 & 39, 30.66 & 30.4, 1.09 & 1.0 respectively), indicating a symmetrical distribution in the dataset. \n",
    "<br> \n",
    "    <br>\n",
    "On the other hand, Insurance charge's Mean is about \\\\$13.2k, its Median is about $9.3k, and Mode is with lowest value of only \\\\$1.6k, signalling a more right-skewed dataset. \n",
    "<br> \n",
    "<br>\n",
    "These data give us a more overview look of the data's distribution in the US-medical-Insurance-cost Data set.\n",
    "<br> \n",
    "<br>\n",
    "</font>\n",
    "\n"
   ]
  },
  {
   "cell_type": "markdown",
   "metadata": {},
   "source": [
    "### 2.2.2- Average age of people with at least (...) child: \n",
    "\n",
    "#### a) Average age of people with ... child:"
   ]
  },
  {
   "cell_type": "code",
   "execution_count": 53,
   "metadata": {},
   "outputs": [],
   "source": [
    "#write function to find the number of people with ... children and their average age\n",
    "def find_average_age (children_number):\n",
    "    sum_age_children=0\n",
    "    count_age_children=0\n",
    "    for a in range(len(age)):\n",
    "        if Insurance_library['children'][a]==children_number:\n",
    "            sum_age_children+=Insurance_library['age'][a]\n",
    "            count_age_children+=1\n",
    "        else:\n",
    "            pass\n",
    "    average_age_children=round(sum_age_children/count_age_children,2)\n",
    "    return count_age_children, average_age_children"
   ]
  },
  {
   "cell_type": "code",
   "execution_count": 54,
   "metadata": {},
   "outputs": [
    {
     "name": "stdout",
     "output_type": "stream",
     "text": [
      "Number of people with 0 children is 574 and the average age is 38.44\n",
      "Number of people with 1 children is 324 and the average age is 39.45\n",
      "Number of people with 2 children is 240 and the average age is 39.45\n",
      "Number of people with 3 children is 157 and the average age is 41.57\n",
      "Number of people with 4 children is 25 and the average age is 39.0\n",
      "Number of people with 5 children is 18 and the average age is 35.61\n"
     ]
    }
   ],
   "source": [
    "# Testing the function:\n",
    "children_number=range(0,max(children)+1)\n",
    "for a in children_number:\n",
    "    print(\"Number of people with \"+ str(a) + \" children is \" + str(find_average_age (a)[0]) + \" and the average age is \"+str(find_average_age (a)[1]))"
   ]
  },
  {
   "cell_type": "markdown",
   "metadata": {},
   "source": [
    "#### b) Average age of people with at least 1 child:"
   ]
  },
  {
   "cell_type": "code",
   "execution_count": 55,
   "metadata": {},
   "outputs": [],
   "source": [
    "# Writing the function\n",
    "def find_average_age_at_least_child (children_number_at_least):\n",
    "    sum_age_children=0\n",
    "    count_age_children=0\n",
    "    for a in range(len(age)):\n",
    "        if Insurance_library['children'][a]>=children_number_at_least:\n",
    "            sum_age_children+=Insurance_library['age'][a]\n",
    "            count_age_children+=1\n",
    "        else:\n",
    "            pass\n",
    "    average_age_children=round(sum_age_children/count_age_children,2)\n",
    "    return count_age_children, average_age_children"
   ]
  },
  {
   "cell_type": "code",
   "execution_count": 56,
   "metadata": {},
   "outputs": [
    {
     "name": "stdout",
     "output_type": "stream",
     "text": [
      "Number of people with at least 0 children is 1338 and the average age is 39.21\n",
      "Number of people with at least 1 children is 764 and the average age is 39.78\n",
      "Number of people with at least 2 children is 440 and the average age is 40.02\n",
      "Number of people with at least 3 children is 200 and the average age is 40.71\n",
      "Number of people with at least 4 children is 43 and the average age is 37.58\n",
      "Number of people with at least 5 children is 18 and the average age is 35.61\n"
     ]
    }
   ],
   "source": [
    "# Testing\n",
    "for a in children_number:\n",
    "    print(\"Number of people with at least \"+ str(a) + \" children is \" + str(find_average_age_at_least_child (a)[0]) + \" and the average age is \"+str(find_average_age_at_least_child(a)[1]))"
   ]
  },
  {
   "cell_type": "markdown",
   "metadata": {},
   "source": [
    "### 2.2.3- Relationship between smoking and insurance cost :\n",
    "\n",
    "We will look at the list Smoking and Insurance Cost by comparing the average cost for smoker and non-smoker group "
   ]
  },
  {
   "cell_type": "code",
   "execution_count": 57,
   "metadata": {},
   "outputs": [
    {
     "name": "stdout",
     "output_type": "stream",
     "text": [
      "The average Insurance cost for Smoker is 32,050.23 USD.\n",
      "The average Insurance cost for Non-Smoker is 8,434.27 USD.\n"
     ]
    }
   ],
   "source": [
    "# Create function to calculate average insurance cost \n",
    "def calculate_nonsmoker_insurance_cost(smoker,yesorno):\n",
    "    sum_ic = 0\n",
    "    count_ns=0\n",
    "    for a in range(len(smoker)):\n",
    "        if smoker[a]== yesorno:\n",
    "            sum_ic+=charges[a]\n",
    "            count_ns+=1\n",
    "        else:\n",
    "            pass\n",
    "    average_ic=sum_ic/count_ns\n",
    "    return average_ic\n",
    "\n",
    "test1=calculate_nonsmoker_insurance_cost(smoker,'yes')\n",
    "test2=calculate_nonsmoker_insurance_cost(smoker,'no')\n",
    "\n",
    "#Print out result\n",
    "print(\"The average Insurance cost for Smoker is \"+str(\"{:,}\".format(round(test1,2)))+\" USD.\")\n",
    "print(\"The average Insurance cost for Non-Smoker is \"+str(\"{:,}\".format(round(test2,2)))+\" USD.\")\n",
    "            "
   ]
  },
  {
   "cell_type": "markdown",
   "metadata": {},
   "source": [
    "<font color='orange'> From the calculation, we can see that the average Insurance charge for smoker is at least 4 times higher than that for Non-Smoker. </font>"
   ]
  },
  {
   "cell_type": "markdown",
   "metadata": {},
   "source": [
    "### 2.2.4- Average Insurance cost for each Children group"
   ]
  },
  {
   "cell_type": "code",
   "execution_count": 40,
   "metadata": {},
   "outputs": [
    {
     "name": "stdout",
     "output_type": "stream",
     "text": [
      "The average Insurance Cost for family with 0 children is 12,365.98 USD.\n",
      "The average Insurance Cost for family with 1 children is 12,731.17 USD.\n",
      "The average Insurance Cost for family with 2 children is 15,073.56 USD.\n",
      "The average Insurance Cost for family with 3 children is 15,355.32 USD.\n",
      "The average Insurance Cost for family with 4 children is 13,850.66 USD.\n",
      "The average Insurance Cost for family with 5 children is 8,786.04 USD.\n"
     ]
    }
   ],
   "source": [
    "#Create function to calculate average insurance cost for each children group\n",
    "def calculate_ic_children(children,no_children):\n",
    "    sum_ic=0\n",
    "    count_children=0\n",
    "    for i in range(len(children)):\n",
    "        if children[i]==no_children:\n",
    "            sum_ic+=charges[i]\n",
    "            count_children+=1\n",
    "        else:\n",
    "            pass\n",
    "    average_ic=sum_ic/count_children\n",
    "    return average_ic\n",
    "\n",
    "#calculate average insurance cost for each children group:\n",
    "for a in children_number: \n",
    "    print(\"The average Insurance Cost for family with \"+str(a)+\" children is \"+str(\"{:,}\".format(round(calculate_ic_children(children,a),2)))+\" USD.\")\n",
    "    \n",
    "\n",
    "\n",
    "            "
   ]
  },
  {
   "cell_type": "markdown",
   "metadata": {},
   "source": [
    "<font color='orange'> \n",
    "From the result above, the increase and decrease of Insurance charges does not in parallel with the number of children that person has. The lowest average insurance cost falls into family-with-5-children group , while the highest number belongs to family-with-3-children group.\n",
    "</font>"
   ]
  }
 ],
 "metadata": {
  "kernelspec": {
   "display_name": "Python 3 (ipykernel)",
   "language": "python",
   "name": "python3"
  },
  "language_info": {
   "codemirror_mode": {
    "name": "ipython",
    "version": 3
   },
   "file_extension": ".py",
   "mimetype": "text/x-python",
   "name": "python",
   "nbconvert_exporter": "python",
   "pygments_lexer": "ipython3",
   "version": "3.10.9"
  }
 },
 "nbformat": 4,
 "nbformat_minor": 4
}
